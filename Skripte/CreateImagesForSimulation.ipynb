{
 "cells": [
  {
   "cell_type": "code",
   "execution_count": 3,
   "id": "beeeb98e",
   "metadata": {},
   "outputs": [
    {
     "name": "stdout",
     "output_type": "stream",
     "text": [
      "Generierung fertig.\n"
     ]
    }
   ],
   "source": [
    "import cv2\n",
    "import pandas as pd\n",
    "import numpy as np\n",
    "from PIL import Image, ImageDraw\n",
    "\n",
    "def main():\n",
    "    \n",
    "    width = 1368\n",
    "    height = 912\n",
    "    \n",
    "    df = pd.read_csv('../Bildgenerierung/Dateien.txt')\n",
    "    for index, row in df.iterrows():\n",
    "    \n",
    "        im = Image.new('RGB', (width, height), (255, 255, 255));\n",
    "        draw = ImageDraw.Draw(im)\n",
    "        #draw.rectangle((x_min, y_min, x_max, y_max), fill=(240, 240, 240), outline=(10, 10, 10))\n",
    "\n",
    "        name = row['files']\n",
    "        df = pd.read_csv('../Bildgenerierung/' + name + '.csv')\n",
    "        for index, row in df.iterrows():\n",
    "            match row['type']:\n",
    "                case 'l':\n",
    "                    draw.line((row['x1'], row['y1'], row['x2'], row['y2']), fill=(0, 0, 0), width=25)\n",
    "                case 'c':\n",
    "                    draw.ellipse((row['x1'], row['y1'], row['x2'], row['y2']), fill=(240, 240, 240), outline=(0, 0, 0), width=25)\n",
    "                \n",
    "        im.save('../Bildgenerierung/' + name + '.png')\n",
    "\n",
    "def mergeimagesfordocumentation():\n",
    "    image1 = Image.open('../Bildgenerierung/auto.png')\n",
    "    image2 = Image.open('../Bildgenerierung/ostfalia.png')\n",
    "    image3 = Image.open('../Bildgenerierung/haltestelle.png')\n",
    "    image4 = Image.open('../Bildgenerierung/haus_vom_nikolaus.png')\n",
    "    images = [image1, image2, image3, image4]\n",
    "\n",
    "    new_image = Image.new('RGB',(2*1368, 2*912), (0,0,0))\n",
    "    new_image.paste(images[0],(0,0))\n",
    "    new_image.paste(images[1],(1368,0))\n",
    "    new_image.paste(images[2],(0,912))\n",
    "    new_image.paste(images[3],(1368,912))\n",
    "    new_image.save('../Visualisierungen/raw-images-merged.png')    \n",
    "\n",
    "main()\n",
    "mergeimagesfordocumentation()\n",
    "\n",
    "print(\"Generierung fertig.\")"
   ]
  },
  {
   "cell_type": "code",
   "execution_count": null,
   "id": "c5086174",
   "metadata": {},
   "outputs": [],
   "source": []
  }
 ],
 "metadata": {
  "kernelspec": {
   "display_name": "Python [conda env:master]",
   "language": "python",
   "name": "conda-env-master-py"
  },
  "language_info": {
   "codemirror_mode": {
    "name": "ipython",
    "version": 3
   },
   "file_extension": ".py",
   "mimetype": "text/x-python",
   "name": "python",
   "nbconvert_exporter": "python",
   "pygments_lexer": "ipython3",
   "version": "3.10.9"
  }
 },
 "nbformat": 4,
 "nbformat_minor": 5
}
