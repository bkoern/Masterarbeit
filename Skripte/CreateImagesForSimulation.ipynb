{
 "cells": [
  {
   "cell_type": "code",
   "execution_count": 1,
   "id": "beeeb98e",
   "metadata": {},
   "outputs": [
    {
     "name": "stdout",
     "output_type": "stream",
     "text": [
      "Generierung fertig.\n"
     ]
    }
   ],
   "source": [
    "import cv2\n",
    "import pandas as pd\n",
    "import numpy as np\n",
    "from PIL import Image, ImageDraw\n",
    "\n",
    "def main():\n",
    "    \n",
    "    width = 1368\n",
    "    #x_max = width - 68 #1300\n",
    "    #x_min = 100\n",
    "    \n",
    "    height = 912\n",
    "    #y_max = height - 112 #800\n",
    "    #y_min = 200\n",
    "    \n",
    "    df = pd.read_csv('../Bildgenerierung/Dateien.txt')\n",
    "    for index, row in df.iterrows():\n",
    "    \n",
    "        im = Image.new('RGB', (width, height), (255, 255, 255));\n",
    "        draw = ImageDraw.Draw(im)\n",
    "        #draw.rectangle((x_min, y_min, x_max, y_max), fill=(240, 240, 240), outline=(10, 10, 10))\n",
    "\n",
    "\n",
    "        name = row['files']\n",
    "        df = pd.read_csv('../Bildgenerierung/' + name + '.csv')\n",
    "        for index, row in df.iterrows():\n",
    "            match row['type']:\n",
    "                case 'l':\n",
    "                    draw.line((row['x1'], row['y1'], row['x2'], row['y2']), fill=(0, 0, 0), width=25)\n",
    "                case 'c':\n",
    "                    draw.ellipse((row['x1'], row['y1'], row['x2'], row['y2']), fill=(240, 240, 240), outline=(0, 0, 0), width=25)\n",
    "                \n",
    "        im.save('../Bildgenerierung/' + name + '.png')\n",
    "\n",
    "main()\n",
    "print(\"Generierung fertig.\")"
   ]
  },
  {
   "cell_type": "code",
   "execution_count": null,
   "id": "c5086174",
   "metadata": {},
   "outputs": [],
   "source": []
  }
 ],
 "metadata": {
  "kernelspec": {
   "display_name": "Python [conda env:master]",
   "language": "python",
   "name": "conda-env-master-py"
  },
  "language_info": {
   "codemirror_mode": {
    "name": "ipython",
    "version": 3
   },
   "file_extension": ".py",
   "mimetype": "text/x-python",
   "name": "python",
   "nbconvert_exporter": "python",
   "pygments_lexer": "ipython3",
   "version": "3.10.9"
  }
 },
 "nbformat": 4,
 "nbformat_minor": 5
}
