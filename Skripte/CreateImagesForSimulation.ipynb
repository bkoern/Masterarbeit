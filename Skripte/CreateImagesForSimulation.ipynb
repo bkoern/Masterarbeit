{
 "cells": [
  {
   "cell_type": "code",
   "execution_count": 15,
   "id": "beeeb98e",
   "metadata": {},
   "outputs": [
    {
     "name": "stdout",
     "output_type": "stream",
     "text": [
      "Generierung fertig.\n"
     ]
    }
   ],
   "source": [
    "import cv2\n",
    "import pandas as pd\n",
    "import numpy as np\n",
    "from PIL import Image, ImageDraw\n",
    "\n",
    "def main():\n",
    "    \n",
    "    width = 1368\n",
    "    height = 912\n",
    "    \n",
    "    df = pd.read_csv('../Bildgenerierung/Dateien.txt')\n",
    "    for index, row in df.iterrows():\n",
    "    \n",
    "        im = Image.new('RGB', (width, height), (255, 255, 255));\n",
    "        draw = ImageDraw.Draw(im)\n",
    "        #draw.rectangle((x_min, y_min, x_max, y_max), fill=(240, 240, 240), outline=(10, 10, 10))\n",
    "\n",
    "        name = row['files']\n",
    "        df = pd.read_csv('../Bildgenerierung/' + name + '.csv')\n",
    "        for index, row in df.iterrows():\n",
    "            match row['type']:\n",
    "                case 'l':\n",
    "                    draw.line((row['x1'], row['y1'], row['x2'], row['y2']), fill=(0, 0, 0), width=25)\n",
    "                case 'c':\n",
    "                    draw.ellipse((row['x1'], row['y1'], row['x2'], row['y2']), fill=(240, 240, 240), outline=(0, 0, 0), width=25)\n",
    "                \n",
    "        im.save('../Bildgenerierung/' + name + '.png')\n",
    "\n",
    "def mergeimagesfordocumentation(a,b,c,d,e,f,g,name):\n",
    "    image1 = Image.open('../Bildgenerierung/' + a + '.png')\n",
    "    image2 = Image.open('../Bildgenerierung/' + b + '.png')\n",
    "    image3 = Image.open('../Bildgenerierung/' + c + '.png')\n",
    "    if not e == '':\n",
    "        image4 = Image.open('../Bildgenerierung/' + d + '.png')\n",
    "        image5 = Image.open('../Bildgenerierung/' + e + '.png')\n",
    "    else:\n",
    "        image4 = Image.new('RGB', (1368,912), (255,255,255))\n",
    "        image5 = Image.new('RGB', (1368,912), (255,255,255))\n",
    "    if f == '':\n",
    "        image6 = Image.new('RGB', (1368,912), (255,255,255))\n",
    "    else:\n",
    "        image6 = Image.open('../Bildgenerierung/' + f + '.png')\n",
    "    images = [image1, image2, image3, image4, image5, image6]\n",
    "\n",
    "    if g == '':\n",
    "        new_image = Image.new('RGB',(2*1368, 3*912), (0,0,0))\n",
    "    else:\n",
    "        new_image = Image.new('RGB',(2*1368, 4*912), (255,255,255))\n",
    "        image7 = Image.open('../Bildgenerierung/' + g + '.png')\n",
    "        new_image.paste(image7,(684,2736))\n",
    "    new_image.paste(images[0],(0,0))\n",
    "    new_image.paste(images[1],(1368,0))\n",
    "    new_image.paste(images[2],(0,912))\n",
    "    new_image.paste(images[3],(1368,912))\n",
    "    new_image.paste(images[4],(0,1824))\n",
    "    new_image.paste(images[5],(1368,1824))\n",
    "    new_image.save('../Visualisierungen/' + name + '.png')    \n",
    "\n",
    "main()\n",
    "mergeimagesfordocumentation('horizontale', 'strichmann', 'ostfalia', 'vertikale', 'tshirt', 'schlange', 'haus_vom_nikolaus', 'raw-images-merged-static')\n",
    "mergeimagesfordocumentation('eis', 'schneemann', 'hammer', 'auto', 'box', 'kirsche', '', 'raw-images-merged-bruecke1')\n",
    "mergeimagesfordocumentation('girlande', 'haltestelle', 'dlr', 'ampel', 'kreuz', 'sonne', '', 'raw-images-merged-bruecke2')\n",
    "mergeimagesfordocumentation('heissluftballon', 'tannenbaum', 'tisch', 'kreise', 'zylinder', '', '', 'raw-images-merged-ampel1')\n",
    "mergeimagesfordocumentation('tnt', 'm', 'steuerrad', 'mondgesicht', 'anker', '', '', 'raw-images-merged-ampel2')\n",
    "mergeimagesfordocumentation('lolli', 'viereck', 'kreise2', '', '', '', '', 'raw-images-merged-uebung')\n",
    "print(\"Generierung fertig.\")"
   ]
  },
  {
   "cell_type": "code",
   "execution_count": null,
   "id": "c5086174",
   "metadata": {},
   "outputs": [],
   "source": []
  }
 ],
 "metadata": {
  "kernelspec": {
   "display_name": "Python [conda env:master]",
   "language": "python",
   "name": "conda-env-master-py"
  },
  "language_info": {
   "codemirror_mode": {
    "name": "ipython",
    "version": 3
   },
   "file_extension": ".py",
   "mimetype": "text/x-python",
   "name": "python",
   "nbconvert_exporter": "python",
   "pygments_lexer": "ipython3",
   "version": "3.10.9"
  }
 },
 "nbformat": 4,
 "nbformat_minor": 5
}
