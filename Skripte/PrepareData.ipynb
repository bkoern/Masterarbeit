{
 "cells": [
  {
   "cell_type": "code",
   "execution_count": 11,
   "id": "2857adb0",
   "metadata": {},
   "outputs": [
    {
     "name": "stdout",
     "output_type": "stream",
     "text": [
      "Real Data prepared\n"
     ]
    },
    {
     "name": "stderr",
     "output_type": "stream",
     "text": [
      "C:\\Users\\b-bah\\AppData\\Local\\Temp\\ipykernel_23084\\1344945089.py:16: DtypeWarning: Columns (11,12,13,14,15,16,17,18,19,20,21,22,23,24,25,26) have mixed types. Specify dtype option on import or set low_memory=False.\n",
      "  df = pd.read_csv(file_in[0], sep=';')\n"
     ]
    },
    {
     "name": "stdout",
     "output_type": "stream",
     "text": [
      "No data was captured! Virtuell Nr. 17\n",
      "No data was captured! Virtuell Nr. 18\n",
      "Virtuell Data prepared\n"
     ]
    },
    {
     "name": "stderr",
     "output_type": "stream",
     "text": [
      "C:\\Users\\b-bah\\AppData\\Local\\Temp\\ipykernel_23084\\1344945089.py:16: DtypeWarning: Columns (11,12,13,14,15,16,17,18,19,20,21,22,23,24,25,26) have mixed types. Specify dtype option on import or set low_memory=False.\n",
      "  df = pd.read_csv(file_in[0], sep=';')\n",
      "C:\\Users\\b-bah\\AppData\\Local\\Temp\\ipykernel_23084\\1344945089.py:16: DtypeWarning: Columns (11,12,13,14,15,16,17,18,19,20,21,22,23,24,25,26) have mixed types. Specify dtype option on import or set low_memory=False.\n",
      "  df = pd.read_csv(file_in[0], sep=';')\n"
     ]
    },
    {
     "name": "stdout",
     "output_type": "stream",
     "text": [
      "No data was captured! Haptisch Nr. 26\n",
      "Haptisch Data prepared\n"
     ]
    }
   ],
   "source": [
    "import pandas as pd\n",
    "import glob\n",
    "import math\n",
    "import os\n",
    "\n",
    "width = 1368\n",
    "height = 912\n",
    "\n",
    "def prepareData(folder, convert01):\n",
    "    for n in range(1, 27):\n",
    "        path_in = '../Versuchsdaten_roh/' + str(n) + '/' + folder + '/2023.*.csv'\n",
    "        path_out = '../Versuchsdaten_vorverarbeitet/' + str(n)\n",
    "        file_in = glob.glob(path_in)\n",
    "        file_out = path_out + '/' + folder.lower() + '.csv'\n",
    "        \n",
    "        df = pd.read_csv(file_in[0], sep=';')\n",
    "        #filter 1 to only include data during painting\n",
    "        #filter 2 to only include data from task and not the tutorial\n",
    "        filtered_df = df[(df['Tablet_menu_index'] == 2.0) & (df['Tablet_level_index'] == 1.0)]\n",
    "        if len(filtered_df.index) == 0:\n",
    "            print('No data was captured! ' + folder + ' Nr. ' + str(n))\n",
    "            continue\n",
    "\n",
    "        result_df = pd.DataFrame(columns=['sublevel','x','y'])\n",
    "\n",
    "        groupedbysublevel_df = filtered_df.groupby('Tablet_sublevel_index')\n",
    "        for level_value, level_df in groupedbysublevel_df:\n",
    "            #print(len(level_df.index))\n",
    "\n",
    "            unique_pixel = level_df['Tablet_tablet_pixel'].unique()\n",
    "            #print(unique_pixel)\n",
    "            first_pixel = True\n",
    "            for multipixel in unique_pixel: #example for multipixel: \"817.0:401.0|722.0:423.0\"\n",
    "                if ':' in multipixel:\n",
    "                    pixels = multipixel.split('|')\n",
    "                    for pixel in pixels:\n",
    "                        if first_pixel:\n",
    "                            first_pixel = False\n",
    "                            continue\n",
    "                        pixelcomponents = pixel.split(':')\n",
    "                        if convert01:\n",
    "                            xpixel = width * float(pixelcomponents[0])\n",
    "                            ypixel = height * float(pixelcomponents[1])\n",
    "                            append_df = pd.DataFrame({'sublevel':round(float(level_value)),'x':round(xpixel),'y':round(ypixel)}, index=[0])\n",
    "                        else:\n",
    "                            append_df = pd.DataFrame({'sublevel':round(float(level_value)),'x':round(float(pixelcomponents[0])),'y':round(float(pixelcomponents[1]))}, index=[0])\n",
    "                        result_df = pd.concat([result_df, append_df], ignore_index=True)\n",
    "\n",
    "        if not os.path.exists(path_out):\n",
    "            os.makedirs(path_out)\n",
    "        result_df.to_csv(file_out)\n",
    "    print(folder + ' Data prepared')\n",
    "\n",
    "prepareData('Real', False)\n",
    "prepareData('Virtuell', True)\n",
    "prepareData('Haptisch', True)\n"
   ]
  },
  {
   "cell_type": "code",
   "execution_count": null,
   "id": "813a8cf1",
   "metadata": {},
   "outputs": [],
   "source": []
  },
  {
   "cell_type": "code",
   "execution_count": null,
   "id": "f49e4e40",
   "metadata": {},
   "outputs": [],
   "source": []
  }
 ],
 "metadata": {
  "kernelspec": {
   "display_name": "Python [conda env:master]",
   "language": "python",
   "name": "conda-env-master-py"
  },
  "language_info": {
   "codemirror_mode": {
    "name": "ipython",
    "version": 3
   },
   "file_extension": ".py",
   "mimetype": "text/x-python",
   "name": "python",
   "nbconvert_exporter": "python",
   "pygments_lexer": "ipython3",
   "version": "3.10.9"
  }
 },
 "nbformat": 4,
 "nbformat_minor": 5
}
