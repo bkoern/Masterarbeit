{
 "cells": [
  {
   "cell_type": "code",
   "execution_count": 63,
   "id": "2857adb0",
   "metadata": {},
   "outputs": [
    {
     "name": "stdout",
     "output_type": "stream",
     "text": [
      "Data prepared\n"
     ]
    }
   ],
   "source": [
    "import pandas as pd\n",
    "import glob\n",
    "import math\n",
    "import os\n",
    "\n",
    "x = range(1, 27)\n",
    "\n",
    "for n in x:\n",
    "  path_in = 'Versuchsdaten_roh/' + str(n) + '/Real/2023.*.csv'\n",
    "  path_out = 'Versuchsdaten_vorverarbeitet/' + str(n)\n",
    "  file_in = glob.glob(path_in)\n",
    "  file_out = path_out + '/real.csv'\n",
    "    \n",
    "  df = pd.read_csv(file_in[0], sep=';')\n",
    "  #print(len(df.index))\n",
    "  #filter 1 to only include data during painting\n",
    "  #filter 2 to only include data from task and not the tutorial\n",
    "  filtered_df = df[(df['Tablet_menu_index'] == 2.0) & (df['Tablet_level_index'] == 1.0)]\n",
    "  #print(len(filtered_df.index))  \n",
    "\n",
    "  result_df = pd.DataFrame(columns=['sublevel','x','y'])\n",
    "\n",
    "  groupedbysublevel_df = filtered_df.groupby('Tablet_sublevel_index')\n",
    "  for level_value, level_df in groupedbysublevel_df:\n",
    "    #print(len(level_df.index))\n",
    "    \n",
    "    unique_pixel = level_df['Tablet_tablet_pixel'].unique()\n",
    "    #print(unique_pixel)\n",
    "    first_pixel = True\n",
    "    for multipixel in unique_pixel: #example for multipixel: \"817.0:401.0|722.0:423.0\"\n",
    "      if ':' in multipixel:\n",
    "        pixels = multipixel.split('|')\n",
    "        for pixel in pixels:\n",
    "          if first_pixel:\n",
    "            first_pixel = False\n",
    "            continue\n",
    "          pixelcomponents = pixel.split(':')\n",
    "          append_df = pd.DataFrame({'sublevel':round(float(level_value)),'x':round(float(pixelcomponents[0])),'y':round(float(pixelcomponents[1]))}, index=[0])\n",
    "          result_df = pd.concat([result_df, append_df], ignore_index=True)\n",
    "\n",
    "  if not os.path.exists(path_out):\n",
    "    os.makedirs(path_out)\n",
    "  result_df.to_csv(file_out)\n",
    "print('Data prepared')"
   ]
  },
  {
   "cell_type": "code",
   "execution_count": null,
   "id": "813a8cf1",
   "metadata": {},
   "outputs": [],
   "source": []
  },
  {
   "cell_type": "code",
   "execution_count": null,
   "id": "f49e4e40",
   "metadata": {},
   "outputs": [],
   "source": []
  }
 ],
 "metadata": {
  "kernelspec": {
   "display_name": "Python [conda env:master]",
   "language": "python",
   "name": "conda-env-master-py"
  },
  "language_info": {
   "codemirror_mode": {
    "name": "ipython",
    "version": 3
   },
   "file_extension": ".py",
   "mimetype": "text/x-python",
   "name": "python",
   "nbconvert_exporter": "python",
   "pygments_lexer": "ipython3",
   "version": "3.10.9"
  }
 },
 "nbformat": 4,
 "nbformat_minor": 5
}
