{
 "cells": [
  {
   "cell_type": "code",
   "execution_count": 8,
   "id": "5364069a",
   "metadata": {},
   "outputs": [
    {
     "name": "stdout",
     "output_type": "stream",
     "text": [
      "Ursprünglicher Punkt in Weltkoordinaten: [[-45900. -13000.]]\n",
      "Transformierter Punkt in Bildkoordinaten: [[[617.91113705 116.94281427]]]\n",
      "Ursprünglicher Punkt in Weltkoordinaten: [[-42370. -14060.]]\n",
      "Transformierter Punkt in Bildkoordinaten: [[[1503.89329777  502.27842614]]]\n"
     ]
    }
   ],
   "source": [
    "import numpy as np\n",
    "import cv2\n",
    "\n",
    "# Stützpunkte in Weltkoordinaten\n",
    "welt_stuetzpunkte_1 = np.array([[-47980.0, -11840.0],\n",
    "                               [-41990.0, -14100.0],\n",
    "                               [-46970.0, -11420.0]], dtype=np.float32)\n",
    "\n",
    "# Stützpunkte in Bildkoordinaten\n",
    "bild_stuetzpunkte_1 = np.array([[0, 0],\n",
    "                               [1586, 559],\n",
    "                               [124, 259]], dtype=np.float32)\n",
    "\n",
    "# Überprüfen der Form der Eingabevektoren\n",
    "assert welt_stuetzpunkte_1.shape == (3, 2)\n",
    "assert bild_stuetzpunkte_1.shape == (3, 2)\n",
    "\n",
    "# Berechnen Sie die Transformationsmatrix\n",
    "transformation_matrix = cv2.getAffineTransform(welt_stuetzpunkte_1, bild_stuetzpunkte_1)\n",
    "\n",
    "# Testen Sie die Transformation\n",
    "test_punkt = np.array([[-45900.0, -13000.0]])  # Ein Punkt in Weltkoordinaten\n",
    "transformierter_punkt = cv2.transform(np.array([test_punkt]), transformation_matrix)\n",
    "\n",
    "print(\"Ursprünglicher Punkt in Weltkoordinaten:\", test_punkt)\n",
    "print(\"Transformierter Punkt in Bildkoordinaten:\", transformierter_punkt)\n",
    "\n",
    "# Testen Sie die Transformation\n",
    "test_punkt = np.array([[-42370.0, -14060.0]])  # Ein Punkt in Weltkoordinaten\n",
    "transformierter_punkt = cv2.transform(np.array([test_punkt]), transformation_matrix)\n",
    "\n",
    "print(\"Ursprünglicher Punkt in Weltkoordinaten:\", test_punkt)\n",
    "print(\"Transformierter Punkt in Bildkoordinaten:\", transformierter_punkt)"
   ]
  },
  {
   "cell_type": "code",
   "execution_count": null,
   "id": "9598e16c",
   "metadata": {},
   "outputs": [],
   "source": []
  },
  {
   "cell_type": "code",
   "execution_count": null,
   "id": "c5ce7912",
   "metadata": {},
   "outputs": [],
   "source": []
  }
 ],
 "metadata": {
  "kernelspec": {
   "display_name": "Python [conda env:master]",
   "language": "python",
   "name": "conda-env-master-py"
  },
  "language_info": {
   "codemirror_mode": {
    "name": "ipython",
    "version": 3
   },
   "file_extension": ".py",
   "mimetype": "text/x-python",
   "name": "python",
   "nbconvert_exporter": "python",
   "pygments_lexer": "ipython3",
   "version": "3.10.9"
  }
 },
 "nbformat": 4,
 "nbformat_minor": 5
}
