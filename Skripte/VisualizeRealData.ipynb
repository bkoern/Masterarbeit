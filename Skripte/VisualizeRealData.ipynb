{
 "cells": [
  {
   "cell_type": "code",
   "execution_count": 84,
   "id": "1ab661f4",
   "metadata": {},
   "outputs": [
    {
     "name": "stdout",
     "output_type": "stream",
     "text": [
      "15.0\n",
      "5.0\n",
      "10.0\n",
      "0.0\n",
      "Done\n"
     ]
    }
   ],
   "source": [
    "import pandas as pd\n",
    "import math\n",
    "from PIL import Image, ImageDraw\n",
    "\n",
    "def distancePointToLineBetweenPoints(P, A, B):\n",
    "    AB = [B[0] - A[0], B[1] - A[1]]\n",
    "    AP = [P[0] - A[0], P[1] - A[1]]\n",
    "\n",
    "    length_AB = math.sqrt(AB[0] ** 2 + AB[1] ** 2)\n",
    "    AB_unit = [AB[0] / length_AB, AB[1] / length_AB]\n",
    "\n",
    "    dot_product = AP[0] * AB_unit[0] + AP[1] * AB_unit[1]\n",
    "    projection = [AB_unit[0] * dot_product, AB_unit[1] * dot_product]\n",
    "\n",
    "    I = [A[0] + projection[0], A[1] + projection[1]]\n",
    "    AI = [A[0] - I[0], A[1] - I[1]]\n",
    "    BI = [B[0] - I[0], B[1] - I[1]]\n",
    "    length_AI = math.sqrt(AI[0] ** 2 + AI[1] ** 2)\n",
    "    length_BI = math.sqrt(BI[0] ** 2 + BI[1] ** 2)\n",
    "    #print(length_AB)\n",
    "    #print(length_AI)\n",
    "    #print(length_BI)\n",
    "    if length_AB < length_AI + length_BI:\n",
    "        #print('aussen')\n",
    "        return min(length_AI, length_BI)\n",
    "    \n",
    "    #print('innen')\n",
    "    dot_product = AP[0] * AB[0] + AP[1] * AB[1]\n",
    "    projection_length = dot_product / length_AB\n",
    "    return math.sqrt(AP[0] ** 2 + AP[1] ** 2 - projection_length ** 2)\n",
    "\n",
    "def a():\n",
    "    A = (1, 1)\n",
    "    P = (5, 4)\n",
    "    B = (13, 10)\n",
    "    print(intersectionPointBetweenPoints(P, A, B))\n",
    "\n",
    "a()\n",
    "point_size = 1\n",
    "image1 = Image.open('../Bildgenerierung/horizontale.png')\n",
    "image2 = Image.open('../Bildgenerierung/strichmann.png')\n",
    "image3 = Image.open('../Bildgenerierung/ostfalia.png')\n",
    "image4 = Image.open('../Bildgenerierung/vertikale.png')\n",
    "image5 = Image.open('../Bildgenerierung/tshirt.png')\n",
    "image6 = Image.open('../Bildgenerierung/schlange.png')\n",
    "image7 = Image.open('../Bildgenerierung/haus_vom_nikolaus.png')\n",
    "\n",
    "images = [image1, image2, image3, image4, image5, image6, image7]\n",
    "\n",
    "draw = []\n",
    "for image in images:\n",
    "  draw.append(ImageDraw.Draw(image))\n",
    "\n",
    "for n in range(1, 27):\n",
    "  df = pd.read_csv('../Versuchsdaten_vorverarbeitet/' + str(n) + '/Real.csv')\n",
    "  pictures = df.groupby('sublevel')\n",
    "  imageIndex = 0\n",
    "\n",
    "  for group_value, group_data in pictures:\n",
    "    pic_dataframes = []\n",
    "    pic_dataframes.append(group_data.copy())\n",
    "    pic_df = pd.concat(pic_dataframes, ignore_index=True)\n",
    "    \n",
    "    for index, row in pic_df.iterrows():\n",
    "      x = float(row['x'])\n",
    "      y = float(row['y'])\n",
    "      #draw[imageIndex].point((x, y), fill=(100, 100, 100))\n",
    "      draw[imageIndex].rectangle([x - point_size, y - point_size, x + point_size, y + point_size], fill=(0, 0, 255))\n",
    "    imageIndex += 1\n",
    "imageIndex = 0\n",
    "for image in images:\n",
    "  image.save('../Visualisierungen/Real/image' + str(imageIndex) + '.png')\n",
    "  imageIndex += 1\n",
    "print('Done')\n"
   ]
  },
  {
   "cell_type": "code",
   "execution_count": null,
   "id": "7920af48",
   "metadata": {},
   "outputs": [],
   "source": []
  },
  {
   "cell_type": "code",
   "execution_count": null,
   "id": "4929e60d",
   "metadata": {},
   "outputs": [],
   "source": []
  }
 ],
 "metadata": {
  "kernelspec": {
   "display_name": "Python [conda env:master]",
   "language": "python",
   "name": "conda-env-master-py"
  },
  "language_info": {
   "codemirror_mode": {
    "name": "ipython",
    "version": 3
   },
   "file_extension": ".py",
   "mimetype": "text/x-python",
   "name": "python",
   "nbconvert_exporter": "python",
   "pygments_lexer": "ipython3",
   "version": "3.10.9"
  }
 },
 "nbformat": 4,
 "nbformat_minor": 5
}
