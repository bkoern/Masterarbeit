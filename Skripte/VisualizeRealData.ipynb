{
 "cells": [
  {
   "cell_type": "code",
   "execution_count": 13,
   "id": "1ab661f4",
   "metadata": {},
   "outputs": [
    {
     "name": "stdout",
     "output_type": "stream",
     "text": [
      "person nr. 1\n",
      "person nr. 2\n",
      "person nr. 3\n",
      "person nr. 4\n",
      "person nr. 5\n",
      "person nr. 6\n",
      "person nr. 7\n",
      "person nr. 8\n",
      "person nr. 9\n",
      "person nr. 10\n",
      "person nr. 11\n",
      "person nr. 12\n",
      "person nr. 13\n",
      "person nr. 14\n",
      "person nr. 15\n",
      "person nr. 16\n",
      "person nr. 17\n",
      "person nr. 18\n",
      "person nr. 19\n",
      "person nr. 20\n",
      "person nr. 21\n",
      "person nr. 22\n",
      "person nr. 23\n",
      "person nr. 24\n",
      "person nr. 25\n",
      "person nr. 26\n",
      "Done\n"
     ]
    }
   ],
   "source": [
    "import pandas as pd\n",
    "import seaborn as sns\n",
    "import math\n",
    "from PIL import Image, ImageDraw\n",
    "\n",
    "df1 = pd.read_csv('../Bildgenerierung/horizontale.csv')\n",
    "df2 = pd.read_csv('../Bildgenerierung/strichmann.csv')\n",
    "df3 = pd.read_csv('../Bildgenerierung/ostfalia.csv')\n",
    "df4 = pd.read_csv('../Bildgenerierung/vertikale.csv')\n",
    "df5 = pd.read_csv('../Bildgenerierung/tshirt.csv')\n",
    "df6 = pd.read_csv('../Bildgenerierung/schlange.csv')\n",
    "df7 = pd.read_csv('../Bildgenerierung/haus_vom_nikolaus.csv')\n",
    "dfs = [df1, df2, df3, df4, df5, df6, df7]\n",
    "\n",
    "def distancePointToLineBetweenPoints(P, A, B):\n",
    "    AB = [B[0] - A[0], B[1] - A[1]]\n",
    "    AP = [P[0] - A[0], P[1] - A[1]]\n",
    "\n",
    "    length_AB = math.sqrt(AB[0] ** 2 + AB[1] ** 2)\n",
    "    AB_unit = [AB[0] / length_AB, AB[1] / length_AB]\n",
    "\n",
    "    dot_product = AP[0] * AB_unit[0] + AP[1] * AB_unit[1]\n",
    "    projection = [AB_unit[0] * dot_product, AB_unit[1] * dot_product]\n",
    "\n",
    "    I = [A[0] + projection[0], A[1] + projection[1]]\n",
    "    AI = [A[0] - I[0], A[1] - I[1]]\n",
    "    BI = [B[0] - I[0], B[1] - I[1]]\n",
    "    length_AI = math.sqrt(AI[0] ** 2 + AI[1] ** 2)\n",
    "    length_BI = math.sqrt(BI[0] ** 2 + BI[1] ** 2)\n",
    "    if length_AB < length_AI + length_BI:\n",
    "        BP = [P[0] - B[0], P[1] - B[1]]\n",
    "        length_AP = math.sqrt(AP[0] ** 2 + AP[1] ** 2)\n",
    "        length_BP = math.sqrt(BP[0] ** 2 + BP[1] ** 2)\n",
    "        #print('aussen ' + str(min(length_AP, length_BP)) + str(P) + str(A) + str(B))\n",
    "        return [min(length_AP, length_BP), True]\n",
    "    PI = [P[0] - I[0], P[1] - I[1]]\n",
    "    #return [math.sqrt(AP[0] ** 2 + AP[1] ** 2 - projection_length ** 2), False]\n",
    "    return [math.sqrt(PI[0] ** 2 + PI[1] ** 2), False]\n",
    "    \n",
    "def calculateDistance(index, x, y):\n",
    "  df = dfs[index]\n",
    "  dist = [1000000, False]\n",
    "  for index, row in df.iterrows():\n",
    "    match row['type']:\n",
    "      case 'l':\n",
    "        distance = distancePointToLineBetweenPoints((x,y), (row['x1'], row['y1']), (row['x2'], row['y2']))\n",
    "        if dist[0] > distance[0]:\n",
    "          dist = distance\n",
    "      case 'c':\n",
    "        pass\n",
    "        #print('Not implemented yet')\n",
    "  return dist\n",
    "  \n",
    "#def a():\n",
    "#    A = (500, 650)\n",
    "#    B = (500, 300)\n",
    "#    P = (560, 299)\n",
    "#    print(distancePointToLineBetweenPoints(P, A, B))\n",
    "\n",
    "#a()\n",
    "point_size = 1\n",
    "image1 = Image.open('../Bildgenerierung/horizontale.png')\n",
    "image2 = Image.open('../Bildgenerierung/strichmann.png')\n",
    "image3 = Image.open('../Bildgenerierung/ostfalia.png')\n",
    "image4 = Image.open('../Bildgenerierung/vertikale.png')\n",
    "image5 = Image.open('../Bildgenerierung/tshirt.png')\n",
    "image6 = Image.open('../Bildgenerierung/schlange.png')\n",
    "image7 = Image.open('../Bildgenerierung/haus_vom_nikolaus.png')\n",
    "\n",
    "images = [image1, image2, image3, image4, image5, image6, image7]\n",
    "\n",
    "allDistances = []\n",
    "\n",
    "draw = []\n",
    "for image in images:\n",
    "  draw.append(ImageDraw.Draw(image))\n",
    "\n",
    "for n in range(1, 27):\n",
    "  print('person nr. ' + str(n))\n",
    "  df = pd.read_csv('../Versuchsdaten_vorverarbeitet/' + str(n) + '/real.csv')\n",
    "  pictures = df.groupby('sublevel')\n",
    "  imageIndex = 0\n",
    "\n",
    "  for group_value, group_data in pictures:\n",
    "    pic_dataframes = []\n",
    "    pic_dataframes.append(group_data.copy())\n",
    "    pic_df = pd.concat(pic_dataframes, ignore_index=True)\n",
    "    \n",
    "    for index, row in pic_df.iterrows():\n",
    "      x = float(row['x'])\n",
    "      y = float(row['y'])\n",
    "      #draw[imageIndex].point((x, y), fill=(100, 100, 100))\n",
    "      dist = calculateDistance(imageIndex, x, y)\n",
    "      distance = dist[0]\n",
    "      allDistances.append(distance)\n",
    "      red = int(distance * 10 - 45)\n",
    "      green = int(255 - distance * 10)\n",
    "      blue = 0\n",
    "      if red < 0:\n",
    "        red = 0\n",
    "      if green < 0:\n",
    "        green = 0\n",
    "      #if dist[1]:\n",
    "      #  red = 0\n",
    "      #  green = 0\n",
    "      #  blue = 255\n",
    "      draw[imageIndex].rectangle([x - point_size, y - point_size, x + point_size, y + point_size], fill=(red,green,blue))\n",
    "    imageIndex += 1\n",
    "imageIndex = 0\n",
    "for image in images:\n",
    "  image.save('../Visualisierungen/Real/image' + str(imageIndex) + '.png')\n",
    "  imageIndex += 1\n",
    "print('Done')"
   ]
  },
  {
   "cell_type": "code",
   "execution_count": 9,
   "id": "7920af48",
   "metadata": {},
   "outputs": [
    {
     "name": "stdout",
     "output_type": "stream",
     "text": [
      "Done2\n"
     ]
    }
   ],
   "source": [
    "new_image = Image.new('RGB',(2*1368, 3*912), (0,0,0))\n",
    "new_image.paste(images[0],(0,0))\n",
    "new_image.paste(images[1],(1368,0))\n",
    "new_image.paste(images[2],(0,912))\n",
    "new_image.paste(images[3],(1368,912))\n",
    "new_image.paste(images[4],(0,1824))\n",
    "new_image.paste(images[5],(1368,1824))\n",
    "new_image.save(\"../Visualisierungen/Real/image-merged-real.png\")\n",
    "print('Done2')"
   ]
  },
  {
   "cell_type": "code",
   "execution_count": 34,
   "id": "e7d7fe1e",
   "metadata": {},
   "outputs": [
    {
     "name": "stdout",
     "output_type": "stream",
     "text": [
      "Amount of Pixels: 58113\n",
      "Amount of Pixels filtered: 58113\n"
     ]
    },
    {
     "data": {
      "image/png": "[encoded data removed]",
      "text/plain": [
       "<Figure size 640x480 with 1 Axes>"
      ]
     },
     "metadata": {},
     "output_type": "display_data"
    }
   ],
   "source": [
    "import matplotlib.pyplot as plt\n",
    "print('Amount of Pixels: ' + str(len(allDistances)))\n",
    "filtered_list = allDistances\n",
    "#filtered_list = [x for x in allDistances if x <= 300]\n",
    "print('Amount of Pixels filtered: ' + str(len(filtered_list)))\n",
    "sns.set(style=\"whitegrid\")\n",
    "sns.histplot(filtered_list, kde=True, color='blue', binwidth=5, stat='percent')\n",
    "plt.title(\"Verteilung der Daten\")\n",
    "plt.xlabel(\"Abstand in Pixeln, gruppiert in 5er Schritten\")\n",
    "plt.ylabel(\"Häufigkeit in %\")\n",
    "\n",
    "plt.savefig('../Visualisierungen/Real/distribution-pixeldistance.png', dpi=300)\n",
    "plt.show()\n",
    "plt.close()"
   ]
  },
  {
   "cell_type": "code",
   "execution_count": null,
   "id": "cf206e75",
   "metadata": {},
   "outputs": [],
   "source": []
  }
 ],
 "metadata": {
  "kernelspec": {
   "display_name": "Python [conda env:master]",
   "language": "python",
   "name": "conda-env-master-py"
  },
  "language_info": {
   "codemirror_mode": {
    "name": "ipython",
    "version": 3
   },
   "file_extension": ".py",
   "mimetype": "text/x-python",
   "name": "python",
   "nbconvert_exporter": "python",
   "pygments_lexer": "ipython3",
   "version": "3.10.9"
  }
 },
 "nbformat": 4,
 "nbformat_minor": 5
}
