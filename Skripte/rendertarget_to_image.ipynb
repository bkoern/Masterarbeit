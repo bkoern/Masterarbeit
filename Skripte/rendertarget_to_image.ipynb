{
 "cells": [
  {
   "cell_type": "code",
   "execution_count": 14,
   "id": "98b00c14",
   "metadata": {},
   "outputs": [
    {
     "name": "stdout",
     "output_type": "stream",
     "text": [
      "Das Bild mit Blau wurde erfolgreich als PNG gespeichert: 3b.png\n"
     ]
    }
   ],
   "source": [
    "from PIL import Image, ImageOps\n",
    "\n",
    "png_file_path = \"3a.png\"\n",
    "image = Image.open(png_file_path)\n",
    "\n",
    "# Konvertiere das Bild in den Graustufenmodus (L-Modus)\n",
    "bw_image = ImageOps.grayscale(image)\n",
    "\n",
    "# Ändere den Modus des Bildes in \"P\" (Palette)\n",
    "bw_image = bw_image.convert(\"P\", palette=Image.ADAPTIVE, colors=256)\n",
    "\n",
    "# Erstelle eine Liste von Farbpaletten, die verschiedene Blautöne repräsentieren\n",
    "blue_palette = [0, 0, 0] * 256  # Starte mit einer leeren Palette\n",
    "\n",
    "# Fülle die Farbpalette mit Blautönen\n",
    "for i in range(256):\n",
    "    blue_palette[i * 3 + 2] = i  # Setze den Blauwert auf i\n",
    "\n",
    "# Wende die Blaufarbe auf das Bild an\n",
    "bw_image.putpalette(blue_palette)\n",
    "\n",
    "# Speichere das Bild mit Blau als PNG\n",
    "bluish_png_file_path = \"3b.png\"\n",
    "bw_image.save(bluish_png_file_path)\n",
    "\n",
    "print(f\"Das Bild mit Blau wurde erfolgreich als PNG gespeichert: {bluish_png_file_path}\")\n"
   ]
  },
  {
   "cell_type": "code",
   "execution_count": 13,
   "id": "6af2ed4f",
   "metadata": {},
   "outputs": [
    {
     "name": "stdout",
     "output_type": "stream",
     "text": [
      "Das Bild wurde erfolgreich invertiert und als PNG gespeichert: 3a.png\n"
     ]
    }
   ],
   "source": [
    "from PIL import Image, ImageOps\n",
    "\n",
    "image_path = \"3.png\"\n",
    "image = Image.open(image_path)\n",
    "\n",
    "# Konvertiere das Bild in den Graustufenmodus (L-Modus)\n",
    "gray_image = ImageOps.grayscale(image)\n",
    "\n",
    "# Invertiere das Graustufen-Bild\n",
    "inverted_image = ImageOps.invert(gray_image)\n",
    "\n",
    "# Speichere das invertierte Bild\n",
    "inverted_image_path = \"3a.png\"\n",
    "inverted_image.save(inverted_image_path)\n",
    "\n",
    "print(f\"Das Bild wurde erfolgreich invertiert und als PNG gespeichert: {inverted_image_path}\")\n"
   ]
  },
  {
   "cell_type": "code",
   "execution_count": 30,
   "id": "752a4a18",
   "metadata": {},
   "outputs": [
    {
     "name": "stdout",
     "output_type": "stream",
     "text": [
      "Das Graustufen-Bild wurde erfolgreich in ein Bild mit blauen Pixeln umgewandelt und als PNG gespeichert: 3c.png\n"
     ]
    }
   ],
   "source": [
    "from PIL import Image\n",
    "\n",
    "image_path = \"3a.png\"\n",
    "image = Image.open(image_path)\n",
    "\n",
    "# Konvertiere das Bild in den \"RGB\" Modus\n",
    "rgb_image = image.convert(\"RGB\")\n",
    "\n",
    "# Hole die Größe des Bildes\n",
    "width, height = rgb_image.size\n",
    "\n",
    "# Gehe durch alle Pixel im Bild\n",
    "for x in range(width):\n",
    "    for y in range(height):\n",
    "        pixel = rgb_image.getpixel((x, y))\n",
    "        #rgb_image.putpixel((x, y), (pixel[0], 255, 255))\n",
    "        rgb_image.putpixel((x, y), (pixel[0], pixel[0], 255))\n",
    "\n",
    "# Speichere das Bild mit den blauen Pixeln\n",
    "blue_image_path = \"3c.png\"\n",
    "rgb_image.save(blue_image_path)\n",
    "\n",
    "print(f\"Das Graustufen-Bild wurde erfolgreich in ein Bild mit blauen Pixeln umgewandelt und als PNG gespeichert: {blue_image_path}\")\n"
   ]
  },
  {
   "cell_type": "code",
   "execution_count": null,
   "id": "d2c21256",
   "metadata": {},
   "outputs": [],
   "source": []
  },
  {
   "cell_type": "code",
   "execution_count": null,
   "id": "06d31958",
   "metadata": {},
   "outputs": [],
   "source": []
  }
 ],
 "metadata": {
  "kernelspec": {
   "display_name": "Python [conda env:master]",
   "language": "python",
   "name": "conda-env-master-py"
  },
  "language_info": {
   "codemirror_mode": {
    "name": "ipython",
    "version": 3
   },
   "file_extension": ".py",
   "mimetype": "text/x-python",
   "name": "python",
   "nbconvert_exporter": "python",
   "pygments_lexer": "ipython3",
   "version": "3.10.9"
  }
 },
 "nbformat": 4,
 "nbformat_minor": 5
}
